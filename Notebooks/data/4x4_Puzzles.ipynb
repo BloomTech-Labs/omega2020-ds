{
  "nbformat": 4,
  "nbformat_minor": 0,
  "metadata": {
    "colab": {
      "name": "4x4 Puzzles",
      "provenance": [],
      "collapsed_sections": []
    },
    "kernelspec": {
      "name": "python3",
      "display_name": "Python 3"
    }
  },
  "cells": [
    {
      "cell_type": "code",
      "metadata": {
        "id": "srupDzAbabRP",
        "colab_type": "code",
        "colab": {}
      },
      "source": [
        "import pandas as pd\n",
        "\n",
        "puzzles = pd.read_csv('https://raw.githubusercontent.com/Black-Phoenix/4x4-Sudoku-Dataset/master/4x4_sudoku_unique_puzzles.csv')\n",
        "\n",
        "puzzles = puzzles.sample(n=5000)"
      ],
      "execution_count": 0,
      "outputs": []
    },
    {
      "cell_type": "code",
      "metadata": {
        "id": "zHDCAZKmbNmw",
        "colab_type": "code",
        "outputId": "33a23810-18ef-44a2-be62-f34d6e4c7bdd",
        "colab": {
          "base_uri": "https://localhost:8080/",
          "height": 195
        }
      },
      "source": [
        "puzzles.tail()"
      ],
      "execution_count": 52,
      "outputs": [
        {
          "output_type": "execute_result",
          "data": {
            "text/html": [
              "<div>\n",
              "<style scoped>\n",
              "    .dataframe tbody tr th:only-of-type {\n",
              "        vertical-align: middle;\n",
              "    }\n",
              "\n",
              "    .dataframe tbody tr th {\n",
              "        vertical-align: top;\n",
              "    }\n",
              "\n",
              "    .dataframe thead th {\n",
              "        text-align: right;\n",
              "    }\n",
              "</style>\n",
              "<table border=\"1\" class=\"dataframe\">\n",
              "  <thead>\n",
              "    <tr style=\"text-align: right;\">\n",
              "      <th></th>\n",
              "      <th>Puzzle</th>\n",
              "      <th>Solution</th>\n",
              "    </tr>\n",
              "  </thead>\n",
              "  <tbody>\n",
              "    <tr>\n",
              "      <th>715546</th>\n",
              "      <td>300203414003201</td>\n",
              "      <td>4312213414233241</td>\n",
              "    </tr>\n",
              "    <tr>\n",
              "      <th>167843</th>\n",
              "      <td>304013000003021</td>\n",
              "      <td>2314413212433421</td>\n",
              "    </tr>\n",
              "    <tr>\n",
              "      <th>838017</th>\n",
              "      <td>3241000003040423</td>\n",
              "      <td>3241413223141423</td>\n",
              "    </tr>\n",
              "    <tr>\n",
              "      <th>59693</th>\n",
              "      <td>3000024040200034</td>\n",
              "      <td>3412124343212134</td>\n",
              "    </tr>\n",
              "    <tr>\n",
              "      <th>303969</th>\n",
              "      <td>4000030102041023</td>\n",
              "      <td>4132234132141423</td>\n",
              "    </tr>\n",
              "  </tbody>\n",
              "</table>\n",
              "</div>"
            ],
            "text/plain": [
              "                  Puzzle          Solution\n",
              "715546   300203414003201  4312213414233241\n",
              "167843   304013000003021  2314413212433421\n",
              "838017  3241000003040423  3241413223141423\n",
              "59693   3000024040200034  3412124343212134\n",
              "303969  4000030102041023  4132234132141423"
            ]
          },
          "metadata": {
            "tags": []
          },
          "execution_count": 52
        }
      ]
    },
    {
      "cell_type": "code",
      "metadata": {
        "id": "78JLA2stcQHq",
        "colab_type": "code",
        "outputId": "9b9a3b89-afab-44b4-89e1-7d2f0a0150e6",
        "colab": {
          "base_uri": "https://localhost:8080/",
          "height": 34
        }
      },
      "source": [
        "puzzles['Puzzle'].iloc[0].dtype"
      ],
      "execution_count": 53,
      "outputs": [
        {
          "output_type": "execute_result",
          "data": {
            "text/plain": [
              "dtype('int64')"
            ]
          },
          "metadata": {
            "tags": []
          },
          "execution_count": 53
        }
      ]
    },
    {
      "cell_type": "code",
      "metadata": {
        "id": "zYfNRCvobQ2A",
        "colab_type": "code",
        "colab": {}
      },
      "source": [
        "def format_puzzle(puzzle):\n",
        "  puzzle_string = str(puzzle)\n",
        "  padded_puzzle_string = puzzle_string.zfill(16)\n",
        "  formatted_puzzle_string = padded_puzzle_string.replace('0', '.')\n",
        "  return formatted_puzzle_string"
      ],
      "execution_count": 0,
      "outputs": []
    },
    {
      "cell_type": "code",
      "metadata": {
        "id": "Geh_s3QpevvU",
        "colab_type": "code",
        "colab": {}
      },
      "source": [
        "puzzles['Puzzle'] = [format_puzzle(i) for i in puzzles['Puzzle']]"
      ],
      "execution_count": 0,
      "outputs": []
    },
    {
      "cell_type": "code",
      "metadata": {
        "id": "oKbKtcoFgHrM",
        "colab_type": "code",
        "outputId": "5329024b-5311-4161-a8de-c209f2c4f749",
        "colab": {
          "base_uri": "https://localhost:8080/",
          "height": 195
        }
      },
      "source": [
        "puzzles.tail()"
      ],
      "execution_count": 57,
      "outputs": [
        {
          "output_type": "execute_result",
          "data": {
            "text/html": [
              "<div>\n",
              "<style scoped>\n",
              "    .dataframe tbody tr th:only-of-type {\n",
              "        vertical-align: middle;\n",
              "    }\n",
              "\n",
              "    .dataframe tbody tr th {\n",
              "        vertical-align: top;\n",
              "    }\n",
              "\n",
              "    .dataframe thead th {\n",
              "        text-align: right;\n",
              "    }\n",
              "</style>\n",
              "<table border=\"1\" class=\"dataframe\">\n",
              "  <thead>\n",
              "    <tr style=\"text-align: right;\">\n",
              "      <th></th>\n",
              "      <th>Puzzle</th>\n",
              "      <th>Solution</th>\n",
              "    </tr>\n",
              "  </thead>\n",
              "  <tbody>\n",
              "    <tr>\n",
              "      <th>715546</th>\n",
              "      <td>.3..2.3414..32.1</td>\n",
              "      <td>4312213414233241</td>\n",
              "    </tr>\n",
              "    <tr>\n",
              "      <th>167843</th>\n",
              "      <td>.3.4.13.....3.21</td>\n",
              "      <td>2314413212433421</td>\n",
              "    </tr>\n",
              "    <tr>\n",
              "      <th>838017</th>\n",
              "      <td>3241.....3.4.423</td>\n",
              "      <td>3241413223141423</td>\n",
              "    </tr>\n",
              "    <tr>\n",
              "      <th>59693</th>\n",
              "      <td>3....24.4.2...34</td>\n",
              "      <td>3412124343212134</td>\n",
              "    </tr>\n",
              "    <tr>\n",
              "      <th>303969</th>\n",
              "      <td>4....3.1.2.41.23</td>\n",
              "      <td>4132234132141423</td>\n",
              "    </tr>\n",
              "  </tbody>\n",
              "</table>\n",
              "</div>"
            ],
            "text/plain": [
              "                  Puzzle          Solution\n",
              "715546  .3..2.3414..32.1  4312213414233241\n",
              "167843  .3.4.13.....3.21  2314413212433421\n",
              "838017  3241.....3.4.423  3241413223141423\n",
              "59693   3....24.4.2...34  3412124343212134\n",
              "303969  4....3.1.2.41.23  4132234132141423"
            ]
          },
          "metadata": {
            "tags": []
          },
          "execution_count": 57
        }
      ]
    },
    {
      "cell_type": "code",
      "metadata": {
        "id": "cdY5M41vmTBA",
        "colab_type": "code",
        "colab": {}
      },
      "source": [
        "puzzles['Solution'] = [str(solution) for solution in puzzles['Solution']]"
      ],
      "execution_count": 0,
      "outputs": []
    },
    {
      "cell_type": "code",
      "metadata": {
        "id": "ez1E8R0piKSO",
        "colab_type": "code",
        "colab": {}
      },
      "source": [
        "puzzles.to_csv('4x4_puzzles.csv')"
      ],
      "execution_count": 0,
      "outputs": []
    },
    {
      "cell_type": "code",
      "metadata": {
        "id": "dUEATKJyjxBd",
        "colab_type": "code",
        "colab": {}
      },
      "source": [
        ""
      ],
      "execution_count": 0,
      "outputs": []
    }
  ]
}