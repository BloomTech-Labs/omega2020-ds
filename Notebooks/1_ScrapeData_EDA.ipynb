{
 "cells": [
  {
   "cell_type": "markdown",
   "metadata": {
    "colab_type": "text",
    "id": "umL15HBo5AUd"
   },
   "source": [
    "# Scrapping Data\n",
    "### Sudoku.org.uk"
   ]
  },
  {
   "cell_type": "code",
   "execution_count": null,
   "metadata": {},
   "outputs": [],
   "source": [
    "\"\"\"\n",
    "To update the dateset automatically:\n",
    "    1) In the terminal run:\n",
    "    conda install -n python3 -c conda-forge tqdm\n",
    "    tqdm: progress bar for loops\n",
    "    2) In this notebook, import :\n",
    "    from scraper import *\n",
    "    3) Run:\n",
    "    scraper()\n",
    "\"\"\""
   ]
  },
  {
   "cell_type": "code",
   "execution_count": null,
   "metadata": {},
   "outputs": [],
   "source": [
    "from scraper import *\n",
    "scraper()"
   ]
  },
  {
   "cell_type": "markdown",
   "metadata": {},
   "source": [
    "The following functions explain how the scraper.py works"
   ]
  },
  {
   "cell_type": "code",
   "execution_count": 1,
   "metadata": {
    "colab": {},
    "colab_type": "code",
    "id": "_QG2jmswOkHm"
   },
   "outputs": [],
   "source": [
    "\"\"\"\n",
    "Importing Libraries\n",
    "\"\"\"\n",
    "from bs4 import BeautifulSoup\n",
    "import urllib3\n",
    "import requests\n",
    "import datetime\n",
    "import numpy as np\n",
    "import pandas as pd\n",
    "from urllib.request import urlopen\n",
    "from urllib.error import HTTPError\n",
    "from urllib.error import URLError\n",
    "from tqdm import tqdm\n",
    "import pandas as pd\n",
    "import numpy as np\n",
    "import seaborn as sns\n",
    "import matplotlib.pyplot as plt\n",
    "import sklearn\n",
    "import copy\n",
    "from sklearn.model_selection import train_test_split\n",
    "from sklearn.linear_model import LogisticRegression\n",
    "from sklearn.ensemble import RandomForestClassifier\n",
    "from sklearn.metrics import accuracy_score\n",
    "\n"
   ]
  },
  {
   "cell_type": "markdown",
   "metadata": {
    "colab_type": "text",
    "id": "VApKMQxns-oj"
   },
   "source": [
    "## FUNCTIONS"
   ]
  },
  {
   "cell_type": "code",
   "execution_count": 3,
   "metadata": {},
   "outputs": [],
   "source": [
    "\"\"\"\n",
    "    Extract from the most recent day the total number of puzzles\n",
    "    posted in the web site.\n",
    "\"\"\"\n",
    "\n",
    "\n",
    "def total_sudoku():\n",
    "    r = requests.get(\"http://www.sudoku.org.uk/Daily.asp\")\n",
    "    soup = BeautifulSoup(r.content, 'html5lib')\n",
    "    return(soup.find('span', attrs={'class': 'newtitle'}).get_text().split(\",\")[0].replace(\"#\", \"\"))\n"
   ]
  },
  {
   "cell_type": "markdown",
   "metadata": {
    "colab_type": "text",
    "id": "FmyZphEBtCow"
   },
   "source": [
    "### List_dates():\n"
   ]
  },
  {
   "cell_type": "code",
   "execution_count": 4,
   "metadata": {
    "colab": {},
    "colab_type": "code",
    "id": "O3YA5wgC4_zI"
   },
   "outputs": [],
   "source": [
    "def list_dates(total):\n",
    "    '''\n",
    "    check if the website is working or not(for each day)\n",
    "    and save this link in a list.\n",
    "    Input:  Total of puzzles posted\n",
    "    Output: URL list with the websites that are running correctly\n",
    "    '''\n",
    "    dates = []\n",
    "    dates_error = []\n",
    "    urls = []\n",
    "    for i in tqdm(range(2, total)):\n",
    "        d = datetime.date.today() - datetime.timedelta(days=i)\n",
    "        d_format = (str(d.day) + '/' + str(d.month) + '/' + str(d.year))\n",
    "        URL = \"http://www.sudoku.org.uk/DailySudoku.asp?solution=please&day=\" + d_format\n",
    "        try:\n",
    "            urlopen(URL)\n",
    "        except HTTPError as e:\n",
    "            pass\n",
    "\n",
    "        except URLError as e:\n",
    "            pass\n",
    "\n",
    "        else:\n",
    "            urls.append(URL)\n",
    "    return urls\n"
   ]
  },
  {
   "cell_type": "markdown",
   "metadata": {
    "colab_type": "text",
    "id": "glu191x9tpmH"
   },
   "source": [
    "### Get_html()"
   ]
  },
  {
   "cell_type": "code",
   "execution_count": 5,
   "metadata": {
    "colab": {},
    "colab_type": "code",
    "id": "2FdF6AfD4-VX"
   },
   "outputs": [],
   "source": [
    "def get_html(url):\n",
    "    '''\n",
    "    Using the list of the days we're going to open each URL\n",
    "    and extract all the HTML code.\n",
    "    Input: url list\n",
    "    Output: html code\n",
    "    '''\n",
    "    r = requests.get(url)\n",
    "    return BeautifulSoup(r.content, 'html.parser')\n"
   ]
  },
  {
   "cell_type": "markdown",
   "metadata": {
    "colab_type": "text",
    "id": "ssT4VJMuuCjm"
   },
   "source": [
    "### Consolidate()"
   ]
  },
  {
   "cell_type": "code",
   "execution_count": 6,
   "metadata": {
    "colab": {},
    "colab_type": "code",
    "id": "yuwVP45yOoiz"
   },
   "outputs": [],
   "source": [
    "def consolidate(urls):\n",
    "    '''\n",
    "    Extract all the information\n",
    "    Input: list of urls\n",
    "    Output: urls, difficulty levels, number of people\n",
    "    that solved the puzzle, average time solving the puzzle\n",
    "    in minutes, initial Sudoku and its solution.\n",
    "    '''\n",
    "    solution, sudoku, level, people, av_time, unit = ([] for i in range(6))\n",
    "\n",
    "    for url in tqdm(urls):\n",
    "        a, b = ([] for i in range(2))\n",
    "        soup = get_html(url)\n",
    "        for link in soup.find_all(\n",
    "                                'td',\n",
    "                                attrs={'class': ['InnerTDone2',\n",
    "                                                 'InnerTDone']}\n",
    "                                ):\n",
    "            if link.attrs['class'] == ['InnerTDone2']:\n",
    "                b.append(link.text)\n",
    "            else:\n",
    "                b.append('.')\n",
    "            a.append(link.text)\n",
    "        sudoku.append(''.join(b))\n",
    "        solution.append(''.join(a))\n",
    "        p = list(list(soup.table.td)[2])\n",
    "        level.append(str(p[1].get_text()).split(\", \")[1].split()[0])\n",
    "        people.append(str(p[3]).split()[0])\n",
    "        av_time.append(str(p[3]).split()[6])\n",
    "        unit.append(str(p[3]).split()[7])\n",
    "    return(urls, level, people, av_time, unit, sudoku, solution)\n"
   ]
  },
  {
   "cell_type": "markdown",
   "metadata": {
    "colab_type": "text",
    "id": "KvyA16N-GyEK"
   },
   "source": [
    "### Extract Data"
   ]
  },
  {
   "cell_type": "code",
   "execution_count": 7,
   "metadata": {
    "colab": {},
    "colab_type": "code",
    "id": "0_ubcNKjOrAo"
   },
   "outputs": [
    {
     "name": "stderr",
     "output_type": "stream",
     "text": [
      "100%|██████████| 5316/5316 [15:31<00:00,  5.71it/s]\n"
     ]
    }
   ],
   "source": [
    "\"\"\"\n",
    "Extract list urls\n",
    "\"\"\"\n",
    "urls = list_dates(pd.to_numeric(total_sudoku()))\n"
   ]
  },
  {
   "cell_type": "markdown",
   "metadata": {},
   "source": [
    "#### However in the website says that they have 5270 puzzles (that means that the first post of a Sudoku was Feb 2006) but before March 7 of 2006 there are not registers about the players or the average time in the website, for this reason we're going to cut this urls."
   ]
  },
  {
   "cell_type": "code",
   "execution_count": 8,
   "metadata": {},
   "outputs": [
    {
     "name": "stderr",
     "output_type": "stream",
     "text": [
      "100%|██████████| 5075/5075 [16:09<00:00,  5.24it/s]\n"
     ]
    }
   ],
   "source": [
    "index = urls.index([x for x in urls if '=7/3/2006' in x][0])\n",
    "new_urls = urls[:index]\n",
    "urls, level, people, av_time, unit, sudoku, solution = consolidate(new_urls)\n"
   ]
  },
  {
   "cell_type": "markdown",
   "metadata": {
    "colab_type": "text",
    "id": "gTxohNqsG1f8"
   },
   "source": [
    "### Create Dataframe"
   ]
  },
  {
   "cell_type": "code",
   "execution_count": 9,
   "metadata": {
    "colab": {},
    "colab_type": "code",
    "id": "ktdQd4jGxv-m"
   },
   "outputs": [
    {
     "name": "stdout",
     "output_type": "stream",
     "text": [
      "(5075, 7)\n"
     ]
    },
    {
     "data": {
      "text/html": [
       "<div>\n",
       "<style scoped>\n",
       "    .dataframe tbody tr th:only-of-type {\n",
       "        vertical-align: middle;\n",
       "    }\n",
       "\n",
       "    .dataframe tbody tr th {\n",
       "        vertical-align: top;\n",
       "    }\n",
       "\n",
       "    .dataframe thead th {\n",
       "        text-align: right;\n",
       "    }\n",
       "</style>\n",
       "<table border=\"1\" class=\"dataframe\">\n",
       "  <thead>\n",
       "    <tr style=\"text-align: right;\">\n",
       "      <th></th>\n",
       "      <th>URL</th>\n",
       "      <th>Level</th>\n",
       "      <th>People</th>\n",
       "      <th>Average-Time</th>\n",
       "      <th>Unit-Time</th>\n",
       "      <th>Sudoku</th>\n",
       "      <th>Solution</th>\n",
       "    </tr>\n",
       "  </thead>\n",
       "  <tbody>\n",
       "    <tr>\n",
       "      <th>0</th>\n",
       "      <td>http://www.sudoku.org.uk/DailySudoku.asp?solut...</td>\n",
       "      <td>Tough</td>\n",
       "      <td>257</td>\n",
       "      <td>23</td>\n",
       "      <td>minutes</td>\n",
       "      <td>.3..6.7.....7.5.8..9....62.....1.8..6.93.24.1....</td>\n",
       "      <td>1352687492467951837981436254725198366593824718...</td>\n",
       "    </tr>\n",
       "    <tr>\n",
       "      <th>1</th>\n",
       "      <td>http://www.sudoku.org.uk/DailySudoku.asp?solut...</td>\n",
       "      <td>Moderate</td>\n",
       "      <td>269</td>\n",
       "      <td>17</td>\n",
       "      <td>minutes</td>\n",
       "      <td>6.2498...........2.1..5..9..8.7....6.9..3..7.7...</td>\n",
       "      <td>6324981579546713828172536941857294362961348757...</td>\n",
       "    </tr>\n",
       "    <tr>\n",
       "      <th>2</th>\n",
       "      <td>http://www.sudoku.org.uk/DailySudoku.asp?solut...</td>\n",
       "      <td>Moderate</td>\n",
       "      <td>276</td>\n",
       "      <td>14</td>\n",
       "      <td>minutes</td>\n",
       "      <td>...1.....7..9.48..3....5...21...6.3..4.....86....</td>\n",
       "      <td>4691825737519348623287654912158469379475132866...</td>\n",
       "    </tr>\n",
       "    <tr>\n",
       "      <th>3</th>\n",
       "      <td>http://www.sudoku.org.uk/DailySudoku.asp?solut...</td>\n",
       "      <td>Gentle</td>\n",
       "      <td>277</td>\n",
       "      <td>12</td>\n",
       "      <td>minutes</td>\n",
       "      <td>5.2...96.3...6....6.85.2.....3.418...............</td>\n",
       "      <td>5721349683918675426485927137632418594153892768...</td>\n",
       "    </tr>\n",
       "    <tr>\n",
       "      <th>4</th>\n",
       "      <td>http://www.sudoku.org.uk/DailySudoku.asp?solut...</td>\n",
       "      <td>Diabolical</td>\n",
       "      <td>231</td>\n",
       "      <td>31</td>\n",
       "      <td>minutes</td>\n",
       "      <td>1...6.9.3.7.2...8...3......4..1.63...3..2..4.....</td>\n",
       "      <td>1428679539752314868639547124591863276387295417...</td>\n",
       "    </tr>\n",
       "  </tbody>\n",
       "</table>\n",
       "</div>"
      ],
      "text/plain": [
       "                                                 URL       Level People  \\\n",
       "0  http://www.sudoku.org.uk/DailySudoku.asp?solut...       Tough    257   \n",
       "1  http://www.sudoku.org.uk/DailySudoku.asp?solut...    Moderate    269   \n",
       "2  http://www.sudoku.org.uk/DailySudoku.asp?solut...    Moderate    276   \n",
       "3  http://www.sudoku.org.uk/DailySudoku.asp?solut...      Gentle    277   \n",
       "4  http://www.sudoku.org.uk/DailySudoku.asp?solut...  Diabolical    231   \n",
       "\n",
       "  Average-Time Unit-Time                                             Sudoku  \\\n",
       "0           23   minutes  .3..6.7.....7.5.8..9....62.....1.8..6.93.24.1....   \n",
       "1           17   minutes  6.2498...........2.1..5..9..8.7....6.9..3..7.7...   \n",
       "2           14   minutes  ...1.....7..9.48..3....5...21...6.3..4.....86....   \n",
       "3           12   minutes  5.2...96.3...6....6.85.2.....3.418...............   \n",
       "4           31   minutes  1...6.9.3.7.2...8...3......4..1.63...3..2..4.....   \n",
       "\n",
       "                                            Solution  \n",
       "0  1352687492467951837981436254725198366593824718...  \n",
       "1  6324981579546713828172536941857294362961348757...  \n",
       "2  4691825737519348623287654912158469379475132866...  \n",
       "3  5721349683918675426485927137632418594153892768...  \n",
       "4  1428679539752314868639547124591863276387295417...  "
      ]
     },
     "execution_count": 9,
     "metadata": {},
     "output_type": "execute_result"
    }
   ],
   "source": [
    "\"\"\"\n",
    "Create Dataframe with all the information scraped above\n",
    "\"\"\"\n",
    "df = pd.DataFrame(list(\n",
    "                zip(urls, level, people, av_time, unit, sudoku, solution)),\n",
    "               columns=['URL', 'Level', 'People',\n",
    "                        'Average-Time', 'Unit-Time',\n",
    "                        'Sudoku', 'Solution'])\n",
    "print(df.shape)\n",
    "df.head()\n"
   ]
  },
  {
   "cell_type": "markdown",
   "metadata": {},
   "source": [
    "### Create Index\n"
   ]
  },
  {
   "cell_type": "code",
   "execution_count": 10,
   "metadata": {},
   "outputs": [],
   "source": [
    "df['Id'] = df.index\n",
    "df.head()\n",
    "df = df[['Id', 'Level', 'Sudoku',\n",
    "         'Solution', 'People', 'Average-Time',\n",
    "         'Unit-Time', 'URL']]\n"
   ]
  },
  {
   "cell_type": "markdown",
   "metadata": {
    "colab_type": "text",
    "id": "R18LaoxTG4zH"
   },
   "source": [
    "### Function to visualize Sudoku"
   ]
  },
  {
   "cell_type": "code",
   "execution_count": 11,
   "metadata": {
    "colab": {},
    "colab_type": "code",
    "id": "DVss-SVUu_qU"
   },
   "outputs": [],
   "source": [
    "def split(element):\n",
    "    return [char for char in element]\n",
    "\n",
    "\n",
    "def transform_matrix(element):\n",
    "    return np.reshape(split(element), (-1, 9))\n"
   ]
  },
  {
   "cell_type": "code",
   "execution_count": 12,
   "metadata": {
    "colab": {
     "base_uri": "https://localhost:8080/",
     "height": 170
    },
    "colab_type": "code",
    "id": "D38eCqXJOrJ1",
    "outputId": "96bb6d53-bedf-4881-b175-3354bd93a06a"
   },
   "outputs": [
    {
     "data": {
      "text/plain": [
       "array([['1', '4', '2', '8', '6', '7', '9', '5', '3'],\n",
       "       ['9', '7', '5', '2', '3', '1', '4', '8', '6'],\n",
       "       ['8', '6', '3', '9', '5', '4', '7', '1', '2'],\n",
       "       ['4', '5', '9', '1', '8', '6', '3', '2', '7'],\n",
       "       ['6', '3', '8', '7', '2', '9', '5', '4', '1'],\n",
       "       ['7', '2', '1', '3', '4', '5', '8', '6', '9'],\n",
       "       ['5', '8', '7', '6', '9', '2', '1', '3', '4'],\n",
       "       ['3', '9', '6', '4', '1', '8', '2', '7', '5'],\n",
       "       ['2', '1', '4', '5', '7', '3', '6', '9', '8']], dtype='<U1')"
      ]
     },
     "execution_count": 12,
     "metadata": {},
     "output_type": "execute_result"
    }
   ],
   "source": [
    "transform_matrix(df.Solution[4])"
   ]
  },
  {
   "cell_type": "code",
   "execution_count": 13,
   "metadata": {
    "colab": {
     "base_uri": "https://localhost:8080/",
     "height": 170
    },
    "colab_type": "code",
    "id": "L4MusQFO_tbJ",
    "outputId": "54ffb853-4a58-4950-dc13-b235199b333c"
   },
   "outputs": [
    {
     "data": {
      "text/plain": [
       "array([['1', '.', '.', '.', '6', '.', '9', '.', '3'],\n",
       "       ['.', '7', '.', '2', '.', '.', '.', '8', '.'],\n",
       "       ['.', '.', '3', '.', '.', '.', '.', '.', '.'],\n",
       "       ['4', '.', '.', '1', '.', '6', '3', '.', '.'],\n",
       "       ['.', '3', '.', '.', '2', '.', '.', '4', '.'],\n",
       "       ['.', '.', '1', '3', '.', '5', '.', '.', '9'],\n",
       "       ['.', '.', '.', '.', '.', '.', '1', '.', '.'],\n",
       "       ['.', '9', '.', '.', '.', '8', '.', '7', '.'],\n",
       "       ['2', '.', '4', '.', '.', '.', '.', '.', '8']], dtype='<U1')"
      ]
     },
     "execution_count": 13,
     "metadata": {},
     "output_type": "execute_result"
    }
   ],
   "source": [
    "transform_matrix(df.Sudoku[4])"
   ]
  },
  {
   "cell_type": "markdown",
   "metadata": {
    "colab_type": "text",
    "id": "so9CjnefG9EH"
   },
   "source": [
    "### Export Dataframe to CSV file"
   ]
  },
  {
   "cell_type": "code",
   "execution_count": 14,
   "metadata": {
    "colab": {},
    "colab_type": "code",
    "id": "4XgPA2gD_wpx"
   },
   "outputs": [],
   "source": [
    "df.to_csv('data/data.csv')\n",
    "df = pd.read_csv('../Omega2020/data/dataset.csv')\n"
   ]
  },
  {
   "cell_type": "markdown",
   "metadata": {},
   "source": [
    "### Read CSV and Label the columns"
   ]
  },
  {
   "cell_type": "code",
   "execution_count": 15,
   "metadata": {},
   "outputs": [],
   "source": [
    "df = df[['Id', 'Sudoku', 'Solution',\n",
    "         'Level', 'People', 'Average-Time']]\n",
    "df.to_csv('../Omega2020/data/dataset.csv')\n"
   ]
  },
  {
   "cell_type": "markdown",
   "metadata": {},
   "source": [
    "# EDA (exploration Data Analysis)"
   ]
  },
  {
   "cell_type": "code",
   "execution_count": 16,
   "metadata": {},
   "outputs": [
    {
     "name": "stdout",
     "output_type": "stream",
     "text": [
      "(5075, 6)\n"
     ]
    },
    {
     "data": {
      "text/html": [
       "<div>\n",
       "<style scoped>\n",
       "    .dataframe tbody tr th:only-of-type {\n",
       "        vertical-align: middle;\n",
       "    }\n",
       "\n",
       "    .dataframe tbody tr th {\n",
       "        vertical-align: top;\n",
       "    }\n",
       "\n",
       "    .dataframe thead th {\n",
       "        text-align: right;\n",
       "    }\n",
       "</style>\n",
       "<table border=\"1\" class=\"dataframe\">\n",
       "  <thead>\n",
       "    <tr style=\"text-align: right;\">\n",
       "      <th></th>\n",
       "      <th>Id</th>\n",
       "      <th>Sudoku</th>\n",
       "      <th>Solution</th>\n",
       "      <th>Level</th>\n",
       "      <th>People</th>\n",
       "      <th>Average-Time</th>\n",
       "    </tr>\n",
       "  </thead>\n",
       "  <tbody>\n",
       "    <tr>\n",
       "      <th>0</th>\n",
       "      <td>0</td>\n",
       "      <td>.3..6.7.....7.5.8..9....62.....1.8..6.93.24.1....</td>\n",
       "      <td>1352687492467951837981436254725198366593824718...</td>\n",
       "      <td>Tough-3</td>\n",
       "      <td>257</td>\n",
       "      <td>23</td>\n",
       "    </tr>\n",
       "    <tr>\n",
       "      <th>1</th>\n",
       "      <td>1</td>\n",
       "      <td>6.2498...........2.1..5..9..8.7....6.9..3..7.7...</td>\n",
       "      <td>6324981579546713828172536941857294362961348757...</td>\n",
       "      <td>Moderate-2</td>\n",
       "      <td>269</td>\n",
       "      <td>17</td>\n",
       "    </tr>\n",
       "    <tr>\n",
       "      <th>2</th>\n",
       "      <td>2</td>\n",
       "      <td>...1.....7..9.48..3....5...21...6.3..4.....86....</td>\n",
       "      <td>4691825737519348623287654912158469379475132866...</td>\n",
       "      <td>Moderate-2</td>\n",
       "      <td>276</td>\n",
       "      <td>14</td>\n",
       "    </tr>\n",
       "    <tr>\n",
       "      <th>3</th>\n",
       "      <td>3</td>\n",
       "      <td>5.2...96.3...6....6.85.2.....3.418...............</td>\n",
       "      <td>5721349683918675426485927137632418594153892768...</td>\n",
       "      <td>Gentle-1</td>\n",
       "      <td>277</td>\n",
       "      <td>12</td>\n",
       "    </tr>\n",
       "    <tr>\n",
       "      <th>4</th>\n",
       "      <td>4</td>\n",
       "      <td>1...6.9.3.7.2...8...3......4..1.63...3..2..4.....</td>\n",
       "      <td>1428679539752314868639547124591863276387295417...</td>\n",
       "      <td>Diabolical-4</td>\n",
       "      <td>231</td>\n",
       "      <td>31</td>\n",
       "    </tr>\n",
       "  </tbody>\n",
       "</table>\n",
       "</div>"
      ],
      "text/plain": [
       "   Id                                             Sudoku  \\\n",
       "0   0  .3..6.7.....7.5.8..9....62.....1.8..6.93.24.1....   \n",
       "1   1  6.2498...........2.1..5..9..8.7....6.9..3..7.7...   \n",
       "2   2  ...1.....7..9.48..3....5...21...6.3..4.....86....   \n",
       "3   3  5.2...96.3...6....6.85.2.....3.418...............   \n",
       "4   4  1...6.9.3.7.2...8...3......4..1.63...3..2..4.....   \n",
       "\n",
       "                                            Solution         Level  People  \\\n",
       "0  1352687492467951837981436254725198366593824718...       Tough-3     257   \n",
       "1  6324981579546713828172536941857294362961348757...    Moderate-2     269   \n",
       "2  4691825737519348623287654912158469379475132866...    Moderate-2     276   \n",
       "3  5721349683918675426485927137632418594153892768...      Gentle-1     277   \n",
       "4  1428679539752314868639547124591863276387295417...  Diabolical-4     231   \n",
       "\n",
       "   Average-Time  \n",
       "0            23  \n",
       "1            17  \n",
       "2            14  \n",
       "3            12  \n",
       "4            31  "
      ]
     },
     "execution_count": 16,
     "metadata": {},
     "output_type": "execute_result"
    }
   ],
   "source": [
    "df = pd.read_csv('../Omega2020/data/dataset.csv').drop('Unnamed: 0', axis=1)\n",
    "df = df.replace({'Gentle': 'Gentle-1',\n",
    "                 'Moderate': 'Moderate-2',\n",
    "                 'Tough': 'Tough-3',\n",
    "                 'Diabolical': 'Diabolical-4'})\n",
    "print(df.shape)\n",
    "df.head()\n"
   ]
  },
  {
   "cell_type": "code",
   "execution_count": 17,
   "metadata": {},
   "outputs": [
    {
     "name": "stdout",
     "output_type": "stream",
     "text": [
      "81\n"
     ]
    },
    {
     "data": {
      "text/plain": [
       "Id              0\n",
       "Sudoku          0\n",
       "Solution        0\n",
       "Level           0\n",
       "People          0\n",
       "Average-Time    0\n",
       "dtype: int64"
      ]
     },
     "execution_count": 17,
     "metadata": {},
     "output_type": "execute_result"
    }
   ],
   "source": [
    "# Check that the lehgth of a Sudoku puzzle is correct\n",
    "print(len(df['Sudoku'][0]))\n",
    "# Check if there are Null values\n",
    "df.isnull().sum()\n"
   ]
  },
  {
   "cell_type": "markdown",
   "metadata": {},
   "source": [
    "### Who many levels are there?"
   ]
  },
  {
   "cell_type": "code",
   "execution_count": 18,
   "metadata": {},
   "outputs": [
    {
     "data": {
      "text/plain": [
       "['Moderate-2', 'Diabolical-4', 'Tough-3', 'Gentle-1']"
      ]
     },
     "execution_count": 18,
     "metadata": {},
     "output_type": "execute_result"
    }
   ],
   "source": [
    "list(df['Level'].value_counts().index)"
   ]
  },
  {
   "cell_type": "markdown",
   "metadata": {},
   "source": [
    "#### There are 4 different difficulty from the easiest to the most difficult:\n",
    "##### 1. Gentle \n",
    "##### 2. Moderate \n",
    "##### 3. Tough \n",
    "##### 4. Diabolical\n"
   ]
  },
  {
   "cell_type": "markdown",
   "metadata": {},
   "source": [
    "### QUESTION / HYPTHESIS / RESULTS"
   ]
  },
  {
   "cell_type": "markdown",
   "metadata": {},
   "source": [
    "### 1) Is the number of people who solve easy puzzles greater than those who solve difficult puzzles?\n",
    "#### Hypothesis: the total players in the level \"Gentle\" is bigger than \"Diabolical\" level\n",
    "#### Results:"
   ]
  },
  {
   "cell_type": "code",
   "execution_count": 19,
   "metadata": {},
   "outputs": [
    {
     "data": {
      "text/html": [
       "<div>\n",
       "<style scoped>\n",
       "    .dataframe tbody tr th:only-of-type {\n",
       "        vertical-align: middle;\n",
       "    }\n",
       "\n",
       "    .dataframe tbody tr th {\n",
       "        vertical-align: top;\n",
       "    }\n",
       "\n",
       "    .dataframe thead th {\n",
       "        text-align: right;\n",
       "    }\n",
       "</style>\n",
       "<table border=\"1\" class=\"dataframe\">\n",
       "  <thead>\n",
       "    <tr style=\"text-align: right;\">\n",
       "      <th></th>\n",
       "      <th>Level</th>\n",
       "      <th>People</th>\n",
       "      <th>%</th>\n",
       "    </tr>\n",
       "  </thead>\n",
       "  <tbody>\n",
       "    <tr>\n",
       "      <th>2</th>\n",
       "      <td>Moderate-2</td>\n",
       "      <td>1704401</td>\n",
       "      <td>0.448910</td>\n",
       "    </tr>\n",
       "    <tr>\n",
       "      <th>0</th>\n",
       "      <td>Diabolical-4</td>\n",
       "      <td>958860</td>\n",
       "      <td>0.252547</td>\n",
       "    </tr>\n",
       "    <tr>\n",
       "      <th>1</th>\n",
       "      <td>Gentle-1</td>\n",
       "      <td>597057</td>\n",
       "      <td>0.157255</td>\n",
       "    </tr>\n",
       "    <tr>\n",
       "      <th>3</th>\n",
       "      <td>Tough-3</td>\n",
       "      <td>536437</td>\n",
       "      <td>0.141288</td>\n",
       "    </tr>\n",
       "  </tbody>\n",
       "</table>\n",
       "</div>"
      ],
      "text/plain": [
       "          Level   People         %\n",
       "2    Moderate-2  1704401  0.448910\n",
       "0  Diabolical-4   958860  0.252547\n",
       "1      Gentle-1   597057  0.157255\n",
       "3       Tough-3   536437  0.141288"
      ]
     },
     "execution_count": 19,
     "metadata": {},
     "output_type": "execute_result"
    }
   ],
   "source": [
    "gb_level = df.groupby('Level', as_index=False)\n",
    "gb1 = gb_level.agg({\"People\": \"sum\"}).sort_values(by='People', ascending=False)\n",
    "total = gb1.People.sum()\n",
    "gb1['%'] = gb1['People']/total\n",
    "gb1.head()\n"
   ]
  },
  {
   "cell_type": "code",
   "execution_count": 20,
   "metadata": {},
   "outputs": [
    {
     "name": "stdout",
     "output_type": "stream",
     "text": [
      "The hypothesis is False , more people plays diabolical than Gentle\n"
     ]
    },
    {
     "data": {
      "image/png": "[encoded data removed]",
      "text/plain": [
       "<Figure size 360x360 with 1 Axes>"
      ]
     },
     "metadata": {},
     "output_type": "display_data"
    }
   ],
   "source": [
    "diabolical = gb1[gb1['Level'] == 'Diabolical-4'].values[0, 1]\n",
    "gentle = gb1[gb1['Level'] == 'Gentle-1'].values[0, 1]\n",
    "if gentle > diabolical:\n",
    "    print('Hyphothesis is True')\n",
    "else:\n",
    "    print('The hypothesis is False , more people plays diabolical than Gentle')\n",
    "plt.figure(figsize=(5, 5))\n",
    "plt.bar(gb1['Level'], gb1['%'])\n",
    "plt.show();\n"
   ]
  },
  {
   "cell_type": "markdown",
   "metadata": {},
   "source": [
    "### 2) Does the average time in the most difficulty levels greater than the easiest?\n",
    "#### Hypothesis: The average time to solve Sudoku in a \"Diabolical\" level is bigger than \"Thought\" level\n",
    "#### Results:"
   ]
  },
  {
   "cell_type": "code",
   "execution_count": 21,
   "metadata": {},
   "outputs": [
    {
     "data": {
      "image/png": "[encoded data removed]",
      "text/plain": [
       "<Figure size 360x360 with 1 Axes>"
      ]
     },
     "metadata": {},
     "output_type": "display_data"
    }
   ],
   "source": [
    "gb2 = gb_level.agg({\"Average-Time\": \"mean\"}).sort_values(by='Average-Time', ascending=False)\n",
    "plt.figure(figsize=(5, 5))\n",
    "plt.bar(gb2['Level'], gb2['Average-Time'])\n",
    "plt.show();\n"
   ]
  },
  {
   "cell_type": "markdown",
   "metadata": {},
   "source": [
    "### 3) Is the difficulty level defined by the amound of numbers given in the initial Sudoku?\n",
    "#### Hypothesis: Each Level has a range of numbers given in the initial Sudoku\n",
    "#### Results:"
   ]
  },
  {
   "cell_type": "code",
   "execution_count": 24,
   "metadata": {},
   "outputs": [
    {
     "name": "stderr",
     "output_type": "stream",
     "text": [
      "/home/ec2-user/anaconda3/envs/python3/lib/python3.6/site-packages/ipykernel/__main__.py:3: SettingWithCopyWarning: \n",
      "A value is trying to be set on a copy of a slice from a DataFrame\n",
      "\n",
      "See the caveats in the documentation: http://pandas.pydata.org/pandas-docs/stable/indexing.html#indexing-view-versus-copy\n",
      "  app.launch_new_instance()\n"
     ]
    },
    {
     "name": "stdout",
     "output_type": "stream",
     "text": [
      "28\n"
     ]
    },
    {
     "data": {
      "text/html": [
       "<div>\n",
       "<style scoped>\n",
       "    .dataframe tbody tr th:only-of-type {\n",
       "        vertical-align: middle;\n",
       "    }\n",
       "\n",
       "    .dataframe tbody tr th {\n",
       "        vertical-align: top;\n",
       "    }\n",
       "\n",
       "    .dataframe thead th {\n",
       "        text-align: right;\n",
       "    }\n",
       "</style>\n",
       "<table border=\"1\" class=\"dataframe\">\n",
       "  <thead>\n",
       "    <tr style=\"text-align: right;\">\n",
       "      <th></th>\n",
       "      <th>Id</th>\n",
       "      <th>Sudoku</th>\n",
       "      <th>Solution</th>\n",
       "      <th>Level</th>\n",
       "      <th>People</th>\n",
       "      <th>Average-Time</th>\n",
       "      <th>numbers_given</th>\n",
       "    </tr>\n",
       "  </thead>\n",
       "  <tbody>\n",
       "    <tr>\n",
       "      <th>0</th>\n",
       "      <td>0</td>\n",
       "      <td>.3..6.7.....7.5.8..9....62.....1.8..6.93.24.1....</td>\n",
       "      <td>1352687492467951837981436254725198366593824718...</td>\n",
       "      <td>Tough-3</td>\n",
       "      <td>257</td>\n",
       "      <td>23</td>\n",
       "      <td>28</td>\n",
       "    </tr>\n",
       "    <tr>\n",
       "      <th>1</th>\n",
       "      <td>1</td>\n",
       "      <td>6.2498...........2.1..5..9..8.7....6.9..3..7.7...</td>\n",
       "      <td>6324981579546713828172536941857294362961348757...</td>\n",
       "      <td>Moderate-2</td>\n",
       "      <td>269</td>\n",
       "      <td>17</td>\n",
       "      <td>27</td>\n",
       "    </tr>\n",
       "    <tr>\n",
       "      <th>2</th>\n",
       "      <td>2</td>\n",
       "      <td>...1.....7..9.48..3....5...21...6.3..4.....86....</td>\n",
       "      <td>4691825737519348623287654912158469379475132866...</td>\n",
       "      <td>Moderate-2</td>\n",
       "      <td>276</td>\n",
       "      <td>14</td>\n",
       "      <td>25</td>\n",
       "    </tr>\n",
       "    <tr>\n",
       "      <th>3</th>\n",
       "      <td>3</td>\n",
       "      <td>5.2...96.3...6....6.85.2.....3.418...............</td>\n",
       "      <td>5721349683918675426485927137632418594153892768...</td>\n",
       "      <td>Gentle-1</td>\n",
       "      <td>277</td>\n",
       "      <td>12</td>\n",
       "      <td>28</td>\n",
       "    </tr>\n",
       "    <tr>\n",
       "      <th>4</th>\n",
       "      <td>4</td>\n",
       "      <td>1...6.9.3.7.2...8...3......4..1.63...3..2..4.....</td>\n",
       "      <td>1428679539752314868639547124591863276387295417...</td>\n",
       "      <td>Diabolical-4</td>\n",
       "      <td>231</td>\n",
       "      <td>31</td>\n",
       "      <td>26</td>\n",
       "    </tr>\n",
       "  </tbody>\n",
       "</table>\n",
       "</div>"
      ],
      "text/plain": [
       "   Id                                             Sudoku  \\\n",
       "0   0  .3..6.7.....7.5.8..9....62.....1.8..6.93.24.1....   \n",
       "1   1  6.2498...........2.1..5..9..8.7....6.9..3..7.7...   \n",
       "2   2  ...1.....7..9.48..3....5...21...6.3..4.....86....   \n",
       "3   3  5.2...96.3...6....6.85.2.....3.418...............   \n",
       "4   4  1...6.9.3.7.2...8...3......4..1.63...3..2..4.....   \n",
       "\n",
       "                                            Solution         Level  People  \\\n",
       "0  1352687492467951837981436254725198366593824718...       Tough-3     257   \n",
       "1  6324981579546713828172536941857294362961348757...    Moderate-2     269   \n",
       "2  4691825737519348623287654912158469379475132866...    Moderate-2     276   \n",
       "3  5721349683918675426485927137632418594153892768...      Gentle-1     277   \n",
       "4  1428679539752314868639547124591863276387295417...  Diabolical-4     231   \n",
       "\n",
       "   Average-Time  numbers_given  \n",
       "0            23             28  \n",
       "1            17             27  \n",
       "2            14             25  \n",
       "3            12             28  \n",
       "4            31             26  "
      ]
     },
     "execution_count": 24,
     "metadata": {},
     "output_type": "execute_result"
    }
   ],
   "source": [
    "df['numbers_given'] = 0\n",
    "for i in range(len(df)):\n",
    "    df['numbers_given'][i] = sum(c.isdigit() for c in df['Sudoku'][i])\n",
    "print(sum(c.isdigit() for c in df['Sudoku'][0]))\n",
    "df.head()\n"
   ]
  },
  {
   "cell_type": "code",
   "execution_count": 25,
   "metadata": {},
   "outputs": [
    {
     "name": "stdout",
     "output_type": "stream",
     "text": [
      "Gentle:  [23 24 25 26 27 28 29]\n",
      "Moderate:  [22 23 24 25 26 27 28 29]\n",
      "Tough:  [22 23 24 25 26 27 28 29]\n",
      "Diabolical:  [21 22 23 24 25 26 27 28 29]\n"
     ]
    }
   ],
   "source": [
    "number_gentle = df['numbers_given'][df['Level'] == 'Gentle-1'].unique()\n",
    "number_moderate = df['numbers_given'][df['Level'] == 'Moderate-2'].unique()\n",
    "number_tough = df['numbers_given'][df['Level'] == 'Tough-3'].unique()\n",
    "number_diabolical = df['numbers_given'][df['Level'] == 'Diabolical-4'].unique()\n",
    "print('Gentle: ', np.sort(number_gentle))\n",
    "print('Moderate: ', np.sort(number_moderate))\n",
    "print('Tough: ', np.sort(number_tough))\n",
    "print('Diabolical: ', np.sort(number_diabolical))\n"
   ]
  },
  {
   "cell_type": "markdown",
   "metadata": {},
   "source": [
    "# PREDICT difficulty level base on the position of a number"
   ]
  },
  {
   "cell_type": "code",
   "execution_count": 26,
   "metadata": {},
   "outputs": [
    {
     "name": "stderr",
     "output_type": "stream",
     "text": [
      "/home/ec2-user/anaconda3/envs/python3/lib/python3.6/site-packages/ipykernel/__main__.py:3: SettingWithCopyWarning: \n",
      "A value is trying to be set on a copy of a slice from a DataFrame\n",
      "\n",
      "See the caveats in the documentation: http://pandas.pydata.org/pandas-docs/stable/indexing.html#indexing-view-versus-copy\n",
      "  app.launch_new_instance()\n"
     ]
    },
    {
     "data": {
      "text/html": [
       "<div>\n",
       "<style scoped>\n",
       "    .dataframe tbody tr th:only-of-type {\n",
       "        vertical-align: middle;\n",
       "    }\n",
       "\n",
       "    .dataframe tbody tr th {\n",
       "        vertical-align: top;\n",
       "    }\n",
       "\n",
       "    .dataframe thead th {\n",
       "        text-align: right;\n",
       "    }\n",
       "</style>\n",
       "<table border=\"1\" class=\"dataframe\">\n",
       "  <thead>\n",
       "    <tr style=\"text-align: right;\">\n",
       "      <th></th>\n",
       "      <th>Id</th>\n",
       "      <th>Sudoku</th>\n",
       "      <th>Solution</th>\n",
       "      <th>Level</th>\n",
       "      <th>People</th>\n",
       "      <th>Average-Time</th>\n",
       "      <th>numbers_given</th>\n",
       "      <th>new_Sudoku</th>\n",
       "    </tr>\n",
       "  </thead>\n",
       "  <tbody>\n",
       "    <tr>\n",
       "      <th>0</th>\n",
       "      <td>0</td>\n",
       "      <td>.3..6.7.....7.5.8..9....62.....1.8..6.93.24.1....</td>\n",
       "      <td>1352687492467951837981436254725198366593824718...</td>\n",
       "      <td>Tough-3</td>\n",
       "      <td>257</td>\n",
       "      <td>23</td>\n",
       "      <td>28</td>\n",
       "      <td>[0, 3, 0, 0, 6, 0, 7, 0, 0, 0, 0, 0, 7, 0, 5, ...</td>\n",
       "    </tr>\n",
       "    <tr>\n",
       "      <th>1</th>\n",
       "      <td>1</td>\n",
       "      <td>6.2498...........2.1..5..9..8.7....6.9..3..7.7...</td>\n",
       "      <td>6324981579546713828172536941857294362961348757...</td>\n",
       "      <td>Moderate-2</td>\n",
       "      <td>269</td>\n",
       "      <td>17</td>\n",
       "      <td>27</td>\n",
       "      <td>[6, 0, 2, 4, 9, 8, 0, 0, 0, 0, 0, 0, 0, 0, 0, ...</td>\n",
       "    </tr>\n",
       "    <tr>\n",
       "      <th>2</th>\n",
       "      <td>2</td>\n",
       "      <td>...1.....7..9.48..3....5...21...6.3..4.....86....</td>\n",
       "      <td>4691825737519348623287654912158469379475132866...</td>\n",
       "      <td>Moderate-2</td>\n",
       "      <td>276</td>\n",
       "      <td>14</td>\n",
       "      <td>25</td>\n",
       "      <td>[0, 0, 0, 1, 0, 0, 0, 0, 0, 7, 0, 0, 9, 0, 4, ...</td>\n",
       "    </tr>\n",
       "    <tr>\n",
       "      <th>3</th>\n",
       "      <td>3</td>\n",
       "      <td>5.2...96.3...6....6.85.2.....3.418...............</td>\n",
       "      <td>5721349683918675426485927137632418594153892768...</td>\n",
       "      <td>Gentle-1</td>\n",
       "      <td>277</td>\n",
       "      <td>12</td>\n",
       "      <td>28</td>\n",
       "      <td>[5, 0, 2, 0, 0, 0, 9, 6, 0, 3, 0, 0, 0, 6, 0, ...</td>\n",
       "    </tr>\n",
       "    <tr>\n",
       "      <th>4</th>\n",
       "      <td>4</td>\n",
       "      <td>1...6.9.3.7.2...8...3......4..1.63...3..2..4.....</td>\n",
       "      <td>1428679539752314868639547124591863276387295417...</td>\n",
       "      <td>Diabolical-4</td>\n",
       "      <td>231</td>\n",
       "      <td>31</td>\n",
       "      <td>26</td>\n",
       "      <td>[1, 0, 0, 0, 6, 0, 9, 0, 3, 0, 7, 0, 2, 0, 0, ...</td>\n",
       "    </tr>\n",
       "  </tbody>\n",
       "</table>\n",
       "</div>"
      ],
      "text/plain": [
       "   Id                                             Sudoku  \\\n",
       "0   0  .3..6.7.....7.5.8..9....62.....1.8..6.93.24.1....   \n",
       "1   1  6.2498...........2.1..5..9..8.7....6.9..3..7.7...   \n",
       "2   2  ...1.....7..9.48..3....5...21...6.3..4.....86....   \n",
       "3   3  5.2...96.3...6....6.85.2.....3.418...............   \n",
       "4   4  1...6.9.3.7.2...8...3......4..1.63...3..2..4.....   \n",
       "\n",
       "                                            Solution         Level  People  \\\n",
       "0  1352687492467951837981436254725198366593824718...       Tough-3     257   \n",
       "1  6324981579546713828172536941857294362961348757...    Moderate-2     269   \n",
       "2  4691825737519348623287654912158469379475132866...    Moderate-2     276   \n",
       "3  5721349683918675426485927137632418594153892768...      Gentle-1     277   \n",
       "4  1428679539752314868639547124591863276387295417...  Diabolical-4     231   \n",
       "\n",
       "   Average-Time  numbers_given  \\\n",
       "0            23             28   \n",
       "1            17             27   \n",
       "2            14             25   \n",
       "3            12             28   \n",
       "4            31             26   \n",
       "\n",
       "                                          new_Sudoku  \n",
       "0  [0, 3, 0, 0, 6, 0, 7, 0, 0, 0, 0, 0, 7, 0, 5, ...  \n",
       "1  [6, 0, 2, 4, 9, 8, 0, 0, 0, 0, 0, 0, 0, 0, 0, ...  \n",
       "2  [0, 0, 0, 1, 0, 0, 0, 0, 0, 7, 0, 0, 9, 0, 4, ...  \n",
       "3  [5, 0, 2, 0, 0, 0, 9, 6, 0, 3, 0, 0, 0, 6, 0, ...  \n",
       "4  [1, 0, 0, 0, 6, 0, 9, 0, 3, 0, 7, 0, 2, 0, 0, ...  "
      ]
     },
     "execution_count": 26,
     "metadata": {},
     "output_type": "execute_result"
    }
   ],
   "source": [
    "df['new_Sudoku'] = df['Sudoku']\n",
    "for i in range(len(df['new_Sudoku'])):\n",
    "    df['new_Sudoku'][i] = [int(x.replace('.','0')) for x in df['new_Sudoku'][i]]\n",
    "df.head()\n"
   ]
  },
  {
   "cell_type": "code",
   "execution_count": 27,
   "metadata": {},
   "outputs": [
    {
     "data": {
      "text/plain": [
       "((4060,), (4060,), (1015,), (1015,))"
      ]
     },
     "execution_count": 27,
     "metadata": {},
     "output_type": "execute_result"
    }
   ],
   "source": [
    "y = df['Level']\n",
    "x = df['new_Sudoku']\n",
    "y = y.replace({'Gentle-1': '1',\n",
    "               'Moderate-2': '2',\n",
    "               'Tough-3': '3',\n",
    "               'Diabolical-4': '4'})\n",
    "X_train, X_test, y_train, y_test = train_test_split(x, y, test_size=0.2)\n",
    "X_train.shape, y_train.shape, X_test.shape, y_test.shape\n"
   ]
  },
  {
   "cell_type": "code",
   "execution_count": 28,
   "metadata": {},
   "outputs": [
    {
     "data": {
      "text/plain": [
       "0.39901477832512317"
      ]
     },
     "execution_count": 28,
     "metadata": {},
     "output_type": "execute_result"
    }
   ],
   "source": [
    "lr = LogisticRegression()\n",
    "rf = RandomForestClassifier(n_estimators=25, max_depth=10)\n",
    "rf.fit(list(X_train), y_train)\n",
    "y_pred = rf.predict(list(X_test))\n",
    "accuracy_score(y_test, y_pred)\n"
   ]
  },
  {
   "cell_type": "code",
   "execution_count": 29,
   "metadata": {},
   "outputs": [
    {
     "name": "stderr",
     "output_type": "stream",
     "text": [
      "/home/ec2-user/anaconda3/envs/python3/lib/python3.6/site-packages/sklearn/linear_model/logistic.py:433: FutureWarning: Default solver will be changed to 'lbfgs' in 0.22. Specify a solver to silence this warning.\n",
      "  FutureWarning)\n",
      "/home/ec2-user/anaconda3/envs/python3/lib/python3.6/site-packages/sklearn/linear_model/logistic.py:460: FutureWarning: Default multi_class will be changed to 'auto' in 0.22. Specify the multi_class option to silence this warning.\n",
      "  \"this warning.\", FutureWarning)\n"
     ]
    },
    {
     "data": {
      "text/plain": [
       "0.412807881773399"
      ]
     },
     "execution_count": 29,
     "metadata": {},
     "output_type": "execute_result"
    }
   ],
   "source": [
    "lr.fit(list(X_train), y_train)\n",
    "y_pred = lr.predict(list(X_test))\n",
    "accuracy_score(y_test, y_pred)\n"
   ]
  },
  {
   "cell_type": "code",
   "execution_count": 2,
   "metadata": {},
   "outputs": [
    {
     "name": "stdout",
     "output_type": "stream",
     "text": [
      "Extracting all the dates when the website has posted a puzzle and its solution\n"
     ]
    },
    {
     "name": "stderr",
     "output_type": "stream",
     "text": [
      "100%|██████████| 5317/5317 [15:44<00:00,  5.63it/s]\n",
      "  0%|          | 1/5076 [00:00<15:59,  5.29it/s]"
     ]
    },
    {
     "name": "stdout",
     "output_type": "stream",
     "text": [
      "Extracting urls, level, people, av_time, unit, sudoku and solution \n"
     ]
    },
    {
     "name": "stderr",
     "output_type": "stream",
     "text": [
      "100%|██████████| 5076/5076 [16:07<00:00,  5.24it/s]\n"
     ]
    }
   ],
   "source": [
    "scraper()"
   ]
  },
  {
   "cell_type": "code",
   "execution_count": null,
   "metadata": {},
   "outputs": [],
   "source": []
  }
 ],
 "metadata": {
  "colab": {
   "name": "Final_Scraping_UK.ipynb",
   "provenance": [],
   "toc_visible": true
  },
  "kernelspec": {
   "display_name": "conda_python3",
   "language": "python",
   "name": "conda_python3"
  },
  "language_info": {
   "codemirror_mode": {
    "name": "ipython",
    "version": 3
   },
   "file_extension": ".py",
   "mimetype": "text/x-python",
   "name": "python",
   "nbconvert_exporter": "python",
   "pygments_lexer": "ipython3",
   "version": "3.6.7"
  }
 },
 "nbformat": 4,
 "nbformat_minor": 4
}
