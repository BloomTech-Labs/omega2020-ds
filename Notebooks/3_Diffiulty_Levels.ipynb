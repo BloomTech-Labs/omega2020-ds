{
 "cells": [
  {
   "cell_type": "markdown",
   "metadata": {},
   "source": [
    "#### Tracking techniques used by the solver "
   ]
  },
  {
   "cell_type": "code",
   "execution_count": 1,
   "metadata": {},
   "outputs": [],
   "source": [
    "\n",
    "import pandas as pd\n",
    "import numpy as np\n",
    "from solver import *\n",
    "from ai import *\n",
    "from sklearn.model_selection import train_test_split\n",
    "from sklearn.linear_model import LogisticRegression\n",
    "import pickle"
   ]
  },
  {
   "cell_type": "code",
   "execution_count": 2,
   "metadata": {},
   "outputs": [],
   "source": [
    "# function that checks how many times the solver uses a function solve a puzzle\n",
    "# Input : tracker(dictionary)\n",
    "# Output : array[single_position, single_candidate,\n",
    "#               naked_twins, naked_triple, search]\n",
    "\n",
    "def tracker(values):\n",
    "    stalled = False\n",
    "    start = 0\n",
    "    answ = [0, 0, 0, 0, 0]\n",
    "    while not stalled:\n",
    "        initial = transf(values)\n",
    "        values_before = values.values()\n",
    "        values = single_position(values)\n",
    "        values_after = transf(values)\n",
    "        answ = (answ if values_before == values_after else\n",
    "                np.add(answ, [1, 0, 0, 0, 0]))\n",
    "        values_before = values_after\n",
    "        values = single_candidate(values)\n",
    "        values_after = transf(values)\n",
    "        answ = (answ if values_before == values_after else\n",
    "                np.add(answ, [0, 1, 0, 0, 0]))\n",
    "        values_before = values_after\n",
    "        values = naked_twins(values)\n",
    "        values_after = transf(values)\n",
    "        answ = (answ if values_before == values_after else\n",
    "                np.add(answ, [0, 0, 1, 0, 0])) \n",
    "        values_before = values_after\n",
    "        values = naked_triple(values)\n",
    "        values_after = transf(values)\n",
    "        answ = (answ if values_before == values_after else\n",
    "                np.add(answ, [0, 0, 0, 1, 0]))     \n",
    "        solved_values = len([box for box in values.keys() if\n",
    "                             len(values[box]) == 1])\n",
    "        if solved_values is 81:\n",
    "            break\n",
    "        stalled = solved_values == 81  \n",
    "        if initial == values_after:\n",
    "            start += 1\n",
    "            aa = [(len(values[s]), s) for s in boxes if\n",
    "                  len(values[s]) > 1]\n",
    "            if len(aa) is 0:\n",
    "                pass\n",
    "            if len(aa) > 0:\n",
    "                answ = np.add(answ, [0, 0, 0, 0, 1])\n",
    "                _, s = min(aa)\n",
    "                for value in values[s]:\n",
    "                    new_sudoku = values.copy()\n",
    "                    new_sudoku[s] = value\n",
    "                    values = new_sudoku\n",
    "            if start is 10:\n",
    "                break\n",
    "    return(answ)\n"
   ]
  },
  {
   "cell_type": "markdown",
   "metadata": {},
   "source": [
    "### Making a model to predict the difficulty level of a puzzle"
   ]
  },
  {
   "cell_type": "code",
   "execution_count": 4,
   "metadata": {},
   "outputs": [],
   "source": [
    "# convert grid into a dictionary\n",
    "def conv_values(grid):\n",
    "     return dict(zip(boxes, [\"123456789\" if element == \".\" else\n",
    "                             element for element in grid]))\n",
    "\n",
    "# Train the model using the dataset to predict a difficulty level\n",
    "# Model : Logistic Regression\n",
    "# Target : Level\n",
    "# Features : Tracker() --> split array into 5 new columns\n",
    "def train_model():\n",
    "    df = pd.read_csv('../Omega2020/data/dataset.csv').drop('Unnamed: 0',\n",
    "                                                           axis=1)\n",
    "    df = df.drop(df[df.Level == 'TEST'].index)\n",
    "    df['Tracker'] = df['Sudoku'].apply(lambda x: tracker(conv_values(x)))\n",
    "    df[['Single', 'Candidate', 'Twins',\n",
    "        'Triples', 'Guess']] =  pd.DataFrame(df['Tracker'].values.tolist(),\n",
    "                                             index=df.index)\n",
    "    target = ['Level']\n",
    "    features = ['Single','Candidate','Twins','Triples','Guess']\n",
    "    y = df[target]\n",
    "    X = df[features]\n",
    "    X_train, X_test, y_train, y_test = train_test_split(X, y,\n",
    "                                                       test_size=0.2,\n",
    "                                                       random_state=42)\n",
    "    model = LogisticRegression(solver='lbfgs',\n",
    "                               multi_class='auto',\n",
    "                               max_iter=1000)\n",
    "    # Create pickle\n",
    "    outfile = open('difficulty_level_model', 'wb')\n",
    "    pickle.dump(model.fit(X_train, y_train.values.ravel()), outfile)\n",
    "    outfile.close()\n",
    "    return df\n",
    "df = train_model()"
   ]
  },
  {
   "cell_type": "markdown",
   "metadata": {},
   "source": [
    "### Testing the model to predict the difficulty level of our test \n"
   ]
  },
  {
   "cell_type": "code",
   "execution_count": 6,
   "metadata": {},
   "outputs": [
    {
     "name": "stdout",
     "output_type": "stream",
     "text": [
      "\n",
      " test2 (1, '853946172917582364462137598145869237628375419739421856371298645294653781586714923', '.5.....7.9......6...21.75.8.4..69.3...8...4...3.42..5.3.12.86...9......1.8.....2.', 'Moderate')\n",
      "\n",
      " test3 (1, '859174236164832597372569841291657483735418629648293175926381754413725968587946312', '8...74...1.........7.5.9.4....65.4..73.....296.8.......2.3.1.5.........8...9....2', 'Diabolical')\n",
      "\n",
      " test4 (3, 'Not Solution', '...2....58....9..4...18..2.3.....5.95......7..6.....4.........6..1.3498.92.85...3', 'No Difficulty Level')\n",
      "\n",
      " test5 (2, [['3', 'B3'], ['3', 'B9'], ['3', 'D9']], '...5.47..7.3.....3.....6.2..7..2..639.......543..1..7..5.2...........2.8...9.1...', 'No Difficulty Level')\n",
      "\n",
      " test_triple (1, '615294387392178645487356129264837591839415762571629834953782416126543978748961253', '...29438....17864.48.3561....48375.1...4157..5..629834953782416126543978.4.961253', 'Diabolical')\n",
      "\n",
      " test_triple2 (1, '481526379325917684697384215859762431213849567764135892576293148948651723132478956', '4..5..37.32......4.........8....2.3.21.84...........9..7..9.1..94.651.......7....', 'Diabolical')\n",
      "\n",
      " test_triple3 (1, '396425718184739652527168349249381576671254983853697421965872134712943865438516297', '39....7........65.5.7...349.4938.5.66.1.54983853...4..9..8..134..294.8654.....297', 'Moderate')\n"
     ]
    }
   ],
   "source": [
    "# Test1: (Return a state 2 in our Solver.py) The puzzle is invalid and the same number in a row or column. \n",
    "test1 = '88..74...1.........7.5.9.4....65.4..73.....296.8.......2.3.1.5.........8...9....2'\n",
    "\n",
    "# Test3 2 and 3: (Return a state 1 in our Solver.py) Those are valid puzzles\n",
    "test2 = '.5.....7.9......6...21.75.8.4..69.3...8...4...3.42..5.3.12.86...9......1.8.....2.'\n",
    "test3 = '8...74...1.........7.5.9.4....65.4..73.....296.8.......2.3.1.5.........8...9....2'\n",
    "\n",
    "# Test 4:(Return a state 3 in our Solver.py) Valid Sudoku, the initial puzzle follows the Sudoku rules\n",
    "# but doesn't have a solution\n",
    "test4 = '...2....58....9..4...18..2.3.....5.95......7..6.....4.........6..1.3498.92.85...3'\n",
    "\n",
    "# Test_triple 1,2 and . Those are puzzle that have naked triples (sudoku technique)\n",
    "test_triple = '...29438....17864.48.3561....48375.1...4157..5..629834953782416126543978.4.961253'\n",
    "test_triple2 = '4..5..37.32......4.........8....2.3.21.84...........9..7..9.1..94.651.......7....'\n",
    "test_triple3 = '39....7........65.5.7...349.4938.5.66.1.54983853...4..9..8..134..294.8654.....297'\n",
    "\n",
    "names_tests = ['test2', 'test3', 'test4', 'test_triple', 'test_triple2', 'test_triple3']\n",
    "tests = [test2, test3, test4, test_triple, test_triple2, test_triple3]\n",
    "\n",
    "count =0\n",
    "for test in tests:\n",
    "    values = dict(zip(boxes, [\"123456789\" if element == \".\" else\n",
    "                              element for element in test]))\n",
    "    print('\\n', names_tests[count], solve(test))\n",
    "    count+=1"
   ]
  },
  {
   "cell_type": "markdown",
   "metadata": {},
   "source": [
    "### Plotting the tracker results with the Dataset"
   ]
  },
  {
   "cell_type": "code",
   "execution_count": 8,
   "metadata": {},
   "outputs": [
    {
     "data": {
      "image/png": "[encoded data removed]",
      "text/plain": [
       "<Figure size 576x432 with 1 Axes>"
      ]
     },
     "metadata": {},
     "output_type": "display_data"
    }
   ],
   "source": [
    "import matplotlib.pyplot as plt\n",
    "df2 = df[['Level','Single',\n",
    "          'Candidate', 'Twins',\n",
    "          'Triples', 'Guess']].groupby('Level').sum().reset_index()\n",
    "fig, ax = plt.subplots(nrows=1, ncols=1, figsize=(8, 6))\n",
    "ax.bar(df2['Level'], df2['Single'], label='Single')\n",
    "ax.bar(df2['Level'], df2['Candidate'], label='Candidate')\n",
    "ax.bar(df2['Level'], df2['Twins'], label='Twins')\n",
    "ax.bar(df2['Level'], df2['Triples'], label='Triples')\n",
    "ax.bar(df2['Level'], df2['Guess'], label='Guess')\n",
    "plt.legend()\n",
    "plt.show();"
   ]
  },
  {
   "cell_type": "markdown",
   "metadata": {},
   "source": [
    "#### Analysis:\n",
    "##### As we can see the most difficulty levels (Diabolical Tough) use \n",
    "##### the Guess technique (Search function) to solve a puzzle "
   ]
  },
  {
   "cell_type": "markdown",
   "metadata": {},
   "source": [
    "#### Summarizing the results of the tracker"
   ]
  },
  {
   "cell_type": "code",
   "execution_count": 8,
   "metadata": {},
   "outputs": [
    {
     "data": {
      "text/html": [
       "<div>\n",
       "<style scoped>\n",
       "    .dataframe tbody tr th:only-of-type {\n",
       "        vertical-align: middle;\n",
       "    }\n",
       "\n",
       "    .dataframe tbody tr th {\n",
       "        vertical-align: top;\n",
       "    }\n",
       "\n",
       "    .dataframe thead th {\n",
       "        text-align: right;\n",
       "    }\n",
       "</style>\n",
       "<table border=\"1\" class=\"dataframe\">\n",
       "  <thead>\n",
       "    <tr style=\"text-align: right;\">\n",
       "      <th></th>\n",
       "      <th>Level</th>\n",
       "      <th>Single</th>\n",
       "      <th>Candidate</th>\n",
       "      <th>Twins</th>\n",
       "      <th>Triples</th>\n",
       "      <th>Guess</th>\n",
       "    </tr>\n",
       "  </thead>\n",
       "  <tbody>\n",
       "    <tr>\n",
       "      <th>0</th>\n",
       "      <td>Diabolical</td>\n",
       "      <td>24339</td>\n",
       "      <td>11778</td>\n",
       "      <td>3229</td>\n",
       "      <td>76</td>\n",
       "      <td>2379</td>\n",
       "    </tr>\n",
       "    <tr>\n",
       "      <th>1</th>\n",
       "      <td>Gentle</td>\n",
       "      <td>3753</td>\n",
       "      <td>3520</td>\n",
       "      <td>895</td>\n",
       "      <td>23</td>\n",
       "      <td>0</td>\n",
       "    </tr>\n",
       "    <tr>\n",
       "      <th>2</th>\n",
       "      <td>Moderate</td>\n",
       "      <td>14772</td>\n",
       "      <td>13609</td>\n",
       "      <td>3719</td>\n",
       "      <td>109</td>\n",
       "      <td>54</td>\n",
       "    </tr>\n",
       "    <tr>\n",
       "      <th>3</th>\n",
       "      <td>Tough</td>\n",
       "      <td>9088</td>\n",
       "      <td>5482</td>\n",
       "      <td>1804</td>\n",
       "      <td>52</td>\n",
       "      <td>640</td>\n",
       "    </tr>\n",
       "  </tbody>\n",
       "</table>\n",
       "</div>"
      ],
      "text/plain": [
       "        Level  Single  Candidate  Twins  Triples  Guess\n",
       "0  Diabolical   24339      11778   3229       76   2379\n",
       "1      Gentle    3753       3520    895       23      0\n",
       "2    Moderate   14772      13609   3719      109     54\n",
       "3       Tough    9088       5482   1804       52    640"
      ]
     },
     "execution_count": 8,
     "metadata": {},
     "output_type": "execute_result"
    }
   ],
   "source": [
    "df2 = df[['Level', 'Single',\n",
    "          'Candidate', 'Twins',\n",
    "          'Triples', 'Guess']].groupby('Level').sum().reset_index()\n",
    "df2"
   ]
  },
  {
   "cell_type": "markdown",
   "metadata": {},
   "source": [
    "### Analyzing the what is the range of times that the solver uses a technique to solve a puzzle in each difficulty level"
   ]
  },
  {
   "cell_type": "code",
   "execution_count": 18,
   "metadata": {},
   "outputs": [],
   "source": [
    "techniques = ['Guess', 'Triples', 'Twins', 'Candidate', 'Single']\n",
    "levels = ['Gentle', 'Moderate','Tough','Diabolical']\n"
   ]
  },
  {
   "cell_type": "code",
   "execution_count": 24,
   "metadata": {},
   "outputs": [
    {
     "name": "stdout",
     "output_type": "stream",
     "text": [
      "\n",
      " Gentle\n",
      "Guess [0]\n",
      "Triples [0 1]\n",
      "Twins [1 2 0 3 4]\n",
      "Candidate [ 5  4  6  3  7  8 10  2]\n",
      "Single [ 5  6  4  7  3  8  9 11 10]\n",
      "\n",
      " Moderate\n",
      "Guess [0 1 2 3 5]\n",
      "Triples [0 1 2]\n",
      "Twins [2 1 3 0 4 5 6]\n",
      "Candidate [ 6  5  7  8  4  9 10 11  3 12]\n",
      "Single [ 6  7  5  8  9  4 10 11 12 20  3 13 21 22 14 17 19 25 16 26]\n",
      "\n",
      " Tough\n",
      "Guess [0 1 2 3 4 5 6]\n",
      "Triples [0 1 2]\n",
      "Twins [3 2 1 4 5 0 6 7]\n",
      "Candidate [ 7  8  6  9 10  5 11 12 13  4]\n",
      "Single [ 8  7  9 10 11  6 20 21 19 22 13 12 23 17 18  5 24 25 26 16 14 15 28 29\n",
      " 27  4]\n",
      "\n",
      " Diabolical\n",
      "Guess [1 2 3 4 0 5 6 7]\n",
      "Triples [0 1 2]\n",
      "Twins [2 3 1 4 0 5 6 7 9]\n",
      "Candidate [ 8  9  7  6 10 11  5 12 13  4 14]\n",
      "Single [20 19 10 22 21 11  9 18 12 23 24 13 17  8 25 14 16 15 26  7 27 28 29 30]\n"
     ]
    }
   ],
   "source": [
    "for level in levels:\n",
    "    print('\\n',level)\n",
    "    for technique in techniques:\n",
    "        print(technique, np.array(df[df['Level'] == level][technique].value_counts().index))"
   ]
  },
  {
   "cell_type": "markdown",
   "metadata": {},
   "source": [
    "### How did we choose the model to make our predictions?"
   ]
  },
  {
   "cell_type": "code",
   "execution_count": 29,
   "metadata": {},
   "outputs": [
    {
     "name": "stdout",
     "output_type": "stream",
     "text": [
      "KNeighborsClassifier(algorithm='auto', leaf_size=30, metric='minkowski',\n",
      "           metric_params=None, n_jobs=None, n_neighbors=3, p=2,\n",
      "           weights='uniform')\n",
      "model score: 0.664\n"
     ]
    },
    {
     "name": "stderr",
     "output_type": "stream",
     "text": [
      "/home/ec2-user/anaconda3/envs/python3/lib/python3.6/site-packages/sklearn/svm/base.py:196: FutureWarning: The default value of gamma will change from 'auto' to 'scale' in version 0.22 to account better for unscaled features. Set gamma explicitly to 'auto' or 'scale' to avoid this warning.\n",
      "  \"avoid this warning.\", FutureWarning)\n"
     ]
    },
    {
     "name": "stdout",
     "output_type": "stream",
     "text": [
      "SVC(C=0.025, cache_size=200, class_weight=None, coef0=0.0,\n",
      "  decision_function_shape='ovr', degree=3, gamma='auto_deprecated',\n",
      "  kernel='rbf', max_iter=-1, probability=True, random_state=None,\n",
      "  shrinking=True, tol=0.001, verbose=False)\n",
      "model score: 0.703\n",
      "LogisticRegression(C=1.0, class_weight=None, dual=False, fit_intercept=True,\n",
      "          intercept_scaling=1, max_iter=1000, multi_class='auto',\n",
      "          n_jobs=None, penalty='l2', random_state=None, solver='lbfgs',\n",
      "          tol=0.0001, verbose=0, warm_start=False)\n",
      "model score: 0.713\n",
      "DecisionTreeClassifier(class_weight=None, criterion='gini', max_depth=None,\n",
      "            max_features=None, max_leaf_nodes=None,\n",
      "            min_impurity_decrease=0.0, min_impurity_split=None,\n",
      "            min_samples_leaf=1, min_samples_split=2,\n",
      "            min_weight_fraction_leaf=0.0, presort=False, random_state=None,\n",
      "            splitter='best')\n",
      "model score: 0.692\n",
      "RandomForestClassifier(bootstrap=True, class_weight=None, criterion='gini',\n",
      "            max_depth=None, max_features='auto', max_leaf_nodes=None,\n",
      "            min_impurity_decrease=0.0, min_impurity_split=None,\n",
      "            min_samples_leaf=1, min_samples_split=2,\n",
      "            min_weight_fraction_leaf=0.0, n_estimators=10, n_jobs=None,\n",
      "            oob_score=False, random_state=None, verbose=0,\n",
      "            warm_start=False)\n",
      "model score: 0.701\n"
     ]
    },
    {
     "name": "stderr",
     "output_type": "stream",
     "text": [
      "/home/ec2-user/anaconda3/envs/python3/lib/python3.6/site-packages/sklearn/ensemble/forest.py:246: FutureWarning: The default value of n_estimators will change from 10 in version 0.20 to 100 in 0.22.\n",
      "  \"10 in version 0.20 to 100 in 0.22.\", FutureWarning)\n"
     ]
    },
    {
     "name": "stdout",
     "output_type": "stream",
     "text": [
      "AdaBoostClassifier(algorithm='SAMME.R', base_estimator=None,\n",
      "          learning_rate=1.0, n_estimators=50, random_state=None)\n",
      "model score: 0.561\n",
      "GradientBoostingClassifier(criterion='friedman_mse', init=None,\n",
      "              learning_rate=0.1, loss='deviance', max_depth=3,\n",
      "              max_features=None, max_leaf_nodes=None,\n",
      "              min_impurity_decrease=0.0, min_impurity_split=None,\n",
      "              min_samples_leaf=1, min_samples_split=2,\n",
      "              min_weight_fraction_leaf=0.0, n_estimators=100,\n",
      "              n_iter_no_change=None, presort='auto', random_state=None,\n",
      "              subsample=1.0, tol=0.0001, validation_fraction=0.1,\n",
      "              verbose=0, warm_start=False)\n",
      "model score: 0.720\n"
     ]
    }
   ],
   "source": [
    "from sklearn.model_selection import train_test_split\n",
    "from sklearn.linear_model import LogisticRegression\n",
    "from sklearn.impute import SimpleImputer\n",
    "from sklearn.metrics import accuracy_score, log_loss\n",
    "from sklearn.neighbors import KNeighborsClassifier\n",
    "from sklearn.svm import SVC, LinearSVC, NuSVC\n",
    "from sklearn.tree import DecisionTreeClassifier\n",
    "from sklearn.ensemble import RandomForestClassifier, AdaBoostClassifier, GradientBoostingClassifier\n",
    "from sklearn.discriminant_analysis import LinearDiscriminantAnalysis\n",
    "from sklearn.discriminant_analysis import QuadraticDiscriminantAnalysis\n",
    "\n",
    "from sklearn.pipeline import Pipeline\n",
    "\n",
    "target =['Level']\n",
    "features = ['Single','Candidate','Twins','Triples','Guess']\n",
    "\n",
    "y = df[target]\n",
    "X = df[features]\n",
    "X_train, X_test, y_train, y_test = train_test_split(X, y, test_size=0.2, random_state=42)\n",
    "## Make a Pipeline to test all the models \n",
    "classifiers = [\n",
    "    KNeighborsClassifier(3),\n",
    "    SVC(kernel=\"rbf\", C=0.025, probability=True),\n",
    "    LogisticRegression(solver='lbfgs', multi_class='auto',max_iter=1000),\n",
    "    DecisionTreeClassifier(),\n",
    "    RandomForestClassifier(),\n",
    "    AdaBoostClassifier(),\n",
    "    GradientBoostingClassifier()\n",
    "    ]\n",
    "for classifier in classifiers:\n",
    "    pipe = Pipeline(steps=[\n",
    "                      ('classifier', classifier)])\n",
    "    pipe.fit(X_train, y_train.values.ravel())   \n",
    "    print(classifier)\n",
    "    print(\"model score: %.3f\" % pipe.score(X_test, y_test.values.ravel()))\n",
    "    "
   ]
  },
  {
   "cell_type": "code",
   "execution_count": 27,
   "metadata": {},
   "outputs": [
    {
     "data": {
      "text/plain": [
       "array(['Moderate', 'Tough', 'Diabolical', ..., 'Diabolical', 'Moderate',\n",
       "       'Moderate'], dtype=object)"
      ]
     },
     "execution_count": 27,
     "metadata": {},
     "output_type": "execute_result"
    }
   ],
   "source": [
    "pipe.predict(X_test)"
   ]
  },
  {
   "cell_type": "code",
   "execution_count": 28,
   "metadata": {},
   "outputs": [
    {
     "name": "stdout",
     "output_type": "stream",
     "text": [
      "test2 Moderate\n",
      "test3 Diabolical\n",
      "test4 Diabolical\n",
      "test5 Diabolical\n",
      "test_triple Diabolical\n",
      "test_triple2 Diabolical\n",
      "test_triple3 Moderate\n"
     ]
    }
   ],
   "source": [
    "# Test the predictions with each scenario\n",
    "count =0\n",
    "for test in tests:\n",
    "    print(names_tests[count], pipe.predict(tracker(conv_values(test)).reshape(1, -1))[0])\n",
    "    count+=1\n"
   ]
  },
  {
   "cell_type": "code",
   "execution_count": 30,
   "metadata": {},
   "outputs": [
    {
     "name": "stdout",
     "output_type": "stream",
     "text": [
      "\n",
      " test2 1\n",
      ". 5 . |. . . |. 7 . \n",
      "9 . . |. . . |. 6 . \n",
      ". . 2 |1 . 7 |5 . 8 \n",
      "------+------+------\n",
      ". 4 . |. 6 9 |. 3 . \n",
      ". . 8 |. . . |4 . . \n",
      ". 3 . |4 2 . |. 5 . \n",
      "------+------+------\n",
      "3 . 1 |2 . 8 |6 . . \n",
      ". 9 . |. . . |. . 1 \n",
      ". 8 . |. . . |. 2 . \n",
      "\n",
      "\n",
      " test3 1\n",
      "8 . . |. 7 4 |. . . \n",
      "1 . . |. . . |. . . \n",
      ". 7 . |5 . 9 |. 4 . \n",
      "------+------+------\n",
      ". . . |6 5 . |4 . . \n",
      "7 3 . |. . . |. 2 9 \n",
      "6 . 8 |. . . |. . . \n",
      "------+------+------\n",
      ". 2 . |3 . 1 |. 5 . \n",
      ". . . |. . . |. . 8 \n",
      ". . . |9 . . |. . 2 \n",
      "\n",
      "\n",
      " test4 3\n",
      ". . . |2 . . |. . 5 \n",
      "8 . . |. . 9 |. . 4 \n",
      ". . . |1 8 . |. 2 . \n",
      "------+------+------\n",
      "3 . . |. . . |5 . 9 \n",
      "5 . . |. . . |. 7 . \n",
      ". 6 . |. . . |. 4 . \n",
      "------+------+------\n",
      ". . . |. . . |. . 6 \n",
      ". . 1 |. 3 4 |9 8 . \n",
      "9 2 . |8 5 . |. . 3 \n",
      "\n",
      "\n",
      " test5 2\n",
      ". . . |5 . 4 |7 . . \n",
      "7 . 3 |. . . |. . 3 \n",
      ". . . |. . 6 |. 2 . \n",
      "------+------+------\n",
      ". 7 . |. 2 . |. 6 3 \n",
      "9 . . |. . . |. . 5 \n",
      "4 3 . |. 1 . |. 7 . \n",
      "------+------+------\n",
      ". 5 . |2 . . |. . . \n",
      ". . . |. . . |2 . 8 \n",
      ". . . |9 . 1 |. . . \n",
      "\n",
      "\n",
      " test_triple 1\n",
      ". . . |2 9 4 |3 8 . \n",
      ". . . |1 7 8 |6 4 . \n",
      "4 8 . |3 5 6 |1 . . \n",
      "------+------+------\n",
      ". . 4 |8 3 7 |5 . 1 \n",
      ". . . |4 1 5 |7 . . \n",
      "5 . . |6 2 9 |8 3 4 \n",
      "------+------+------\n",
      "9 5 3 |7 8 2 |4 1 6 \n",
      "1 2 6 |5 4 3 |9 7 8 \n",
      ". 4 . |9 6 1 |2 5 3 \n",
      "\n",
      "\n",
      " test_triple2 1\n",
      "4 . . |5 . . |3 7 . \n",
      "3 2 . |. . . |. . 4 \n",
      ". . . |. . . |. . . \n",
      "------+------+------\n",
      "8 . . |. . 2 |. 3 . \n",
      "2 1 . |8 4 . |. . . \n",
      ". . . |. . . |. 9 . \n",
      "------+------+------\n",
      ". 7 . |. 9 . |1 . . \n",
      "9 4 . |6 5 1 |. . . \n",
      ". . . |. 7 . |. . . \n",
      "\n",
      "\n",
      " test_triple3 1\n",
      "3 9 . |. . . |7 . . \n",
      ". . . |. . . |6 5 . \n",
      "5 . 7 |. . . |3 4 9 \n",
      "------+------+------\n",
      ". 4 9 |3 8 . |5 . 6 \n",
      "6 . 1 |. 5 4 |9 8 3 \n",
      "8 5 3 |. . . |4 . . \n",
      "------+------+------\n",
      "9 . . |8 . . |1 3 4 \n",
      ". . 2 |9 4 . |8 6 5 \n",
      "4 . . |. . . |2 9 7 \n",
      "\n"
     ]
    }
   ],
   "source": [
    "def valuesdisplay(grid):\n",
    "     return dict(zip(boxes, [\".\" if element == \".\" else element for element in grid]))\n",
    "count=0\n",
    "for test in tests:\n",
    "    print('\\n',names_tests[count],solve(test)[0])\n",
    "    display(valuesdisplay(test))\n",
    "    count+=1"
   ]
  },
  {
   "cell_type": "code",
   "execution_count": 33,
   "metadata": {},
   "outputs": [
    {
     "name": "stdout",
     "output_type": "stream",
     "text": [
      "\n",
      " test3 (1, '859174236164832597372569841291657483735418629648293175926381754413725968587946312', '8...74...1.........7.5.9.4....65.4..73.....296.8.......2.3.1.5.........8...9....2', 'Diabolical')\n",
      "8 . . |. 7 4 |. . . \n",
      "1 . . |. . . |. . . \n",
      ". 7 . |5 . 9 |. 4 . \n",
      "------+------+------\n",
      ". . . |6 5 . |4 . . \n",
      "7 3 . |. . . |. 2 9 \n",
      "6 . 8 |. . . |. . . \n",
      "------+------+------\n",
      ". 2 . |3 . 1 |. 5 . \n",
      ". . . |. . . |. . 8 \n",
      ". . . |9 . . |. . 2 \n",
      "\n",
      "\n",
      " test5 (2, [['3', 'B3'], ['3', 'B9'], ['3', 'D9']], '...5.47..7.3.....3.....6.2..7..2..639.......543..1..7..5.2...........2.8...9.1...', 'No Difficulty Level')\n",
      ". . . |5 . 4 |7 . . \n",
      "7 . 3 |. . . |. . 3 \n",
      ". . . |. . 6 |. 2 . \n",
      "------+------+------\n",
      ". 7 . |. 2 . |. 6 3 \n",
      "9 . . |. . . |. . 5 \n",
      "4 3 . |. 1 . |. 7 . \n",
      "------+------+------\n",
      ". 5 . |2 . . |. . . \n",
      ". . . |. . . |2 . 8 \n",
      ". . . |9 . 1 |. . . \n",
      "\n",
      "\n",
      " test4 (3, 'Not Solution', '...2....58....9..4...18..2.3.....5.95......7..6.....4.........6..1.3498.92.85...3', 'No Difficulty Level')\n",
      ". . . |2 . . |. . 5 \n",
      "8 . . |. . 9 |. . 4 \n",
      ". . . |1 8 . |. 2 . \n",
      "------+------+------\n",
      "3 . . |. . . |5 . 9 \n",
      "5 . . |. . . |. 7 . \n",
      ". 6 . |. . . |. 4 . \n",
      "------+------+------\n",
      ". . . |. . . |. . 6 \n",
      ". . 1 |. 3 4 |9 8 . \n",
      "9 2 . |8 5 . |. . 3 \n",
      "\n"
     ]
    }
   ],
   "source": [
    "states = [test3,test5,test4]\n",
    "names_states = ['test3','test5','test4']\n",
    "def valuesdisplay(grid):\n",
    "     return dict(zip(boxes, [\".\" if element == \".\" else\n",
    "                 element for element in grid]))\n",
    "count=0\n",
    "for test in states:\n",
    "    print('\\n',names_states[count],solve(test))\n",
    "    display(valuesdisplay(test))\n",
    "    count+=1"
   ]
  },
  {
   "cell_type": "code",
   "execution_count": 34,
   "metadata": {},
   "outputs": [
    {
     "data": {
      "text/plain": [
       "False"
      ]
     },
     "execution_count": 34,
     "metadata": {},
     "output_type": "execute_result"
    }
   ],
   "source": [
    "reduce_puzzle(conv_values(test4))"
   ]
  },
  {
   "cell_type": "code",
   "execution_count": 35,
   "metadata": {},
   "outputs": [
    {
     "name": "stdout",
     "output_type": "stream",
     "text": [
      " 1  3  6 | 2  4  7 | 8  9  5 \n",
      " 8  7  2 | 5  6  9 | 1  3  4 \n",
      " 4  9  5 | 1  8  3 | 6  2  7 \n",
      "---------+---------+---------\n",
      " 3  1  7 | 4  2  8 | 5  6  9 \n",
      " 5  4  89| 3  19 6 | 2  7  18\n",
      " 2  6  89| 7  19 5 | 3  4  18\n",
      "---------+---------+---------\n",
      " 7  8  3 | 9     1 | 4  5  6 \n",
      " 6  5  1 |    3  4 | 9  8  2 \n",
      " 9  2  4 | 8  5    | 7  1  3 \n",
      "\n"
     ]
    }
   ],
   "source": [
    "values=conv_values(test4)\n",
    "solved_values = [box for box in values.keys() if len(values[box]) == 1]\n",
    "stalled = False\n",
    "while not stalled:\n",
    "    solved_values_before = len([box for box in values.keys() if len(values[box]) == 1])\n",
    "    values = single_position(values)\n",
    "    values = single_candidate(values)\n",
    "    values = naked_twins(values)\n",
    "    values = naked_triple(values)\n",
    "    solved_values_after = len([box for box in values.keys() if len(values[box]) == 1])\n",
    "    stalled = solved_values_before == solved_values_after\n",
    "display(values)"
   ]
  },
  {
   "cell_type": "code",
   "execution_count": 36,
   "metadata": {},
   "outputs": [
    {
     "name": "stdout",
     "output_type": "stream",
     "text": [
      "\n",
      " Test3 [16  6  2  0  1]\n"
     ]
    }
   ],
   "source": [
    "print('\\n Test3',tracker(conv_values(test)))"
   ]
  },
  {
   "cell_type": "code",
   "execution_count": 37,
   "metadata": {},
   "outputs": [
    {
     "name": "stdout",
     "output_type": "stream",
     "text": [
      "8 5 9 |1 7 4 |2 3 6 \n",
      "1 6 4 |8 3 2 |5 9 7 \n",
      "3 7 2 |5 6 9 |8 4 1 \n",
      "------+------+------\n",
      "2 9 1 |6 5 7 |4 8 3 \n",
      "7 3 5 |4 1 8 |6 2 9 \n",
      "6 4 8 |2 9 3 |1 7 5 \n",
      "------+------+------\n",
      "9 2 6 |3 8 1 |7 5 4 \n",
      "4 1 3 |7 2 5 |9 6 8 \n",
      "5 8 7 |9 4 6 |3 1 2 \n",
      "\n"
     ]
    }
   ],
   "source": [
    "display(valuesdisplay(solve(test3)[1]))"
   ]
  }
 ],
 "metadata": {
  "kernelspec": {
   "display_name": "conda_python3",
   "language": "python",
   "name": "conda_python3"
  },
  "language_info": {
   "codemirror_mode": {
    "name": "ipython",
    "version": 3
   },
   "file_extension": ".py",
   "mimetype": "text/x-python",
   "name": "python",
   "nbconvert_exporter": "python",
   "pygments_lexer": "ipython3",
   "version": "3.6.7"
  }
 },
 "nbformat": 4,
 "nbformat_minor": 4
}
